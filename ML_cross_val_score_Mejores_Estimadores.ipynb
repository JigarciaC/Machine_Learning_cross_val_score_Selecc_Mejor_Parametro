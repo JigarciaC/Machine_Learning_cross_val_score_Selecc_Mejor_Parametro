{
 "cells": [
  {
   "cell_type": "markdown",
   "metadata": {},
   "source": [
    "# Utilizar cross_val_score() para seleccionar parámetros para un modelo de aprendizaje automático.\n",
    "* En esta práctica se utilizará la validación cruzada para seleccionar parámetros para un modelo de aprendizaje automático.\n",
    "* Se define la función de utilidad **get_score()** que informe el MAE promedio (más de tres pliegues de validación cruzada) de pipeline de aprendizaje automático que utiliza:\n",
    "  * los **datos en X e y** para crear pliegues,\n",
    "  * **SimpleImputer()** (con todos los parámetros dejados por defecto) para reemplazar los valores faltantes,\n",
    "  * **RandomForestRegressor()** (con random_state=0) para ajustarse a un modelo random forest.\n",
    "* El parámetro **n_estimators** proporcionado a **get_score(**) se utiliza al configurar el número de árboles en el modelo Random Forest."
   ]
  },
  {
   "cell_type": "markdown",
   "metadata": {},
   "source": [
    "# Modelo de Machine Learning para estimar pecios de viviendas\n",
    "\n",
    "* Se utliza los datos de la Competencia de precios de vivienda para usuarios de Kaggle Learn(https://www.kaggle.com/c/home-data-for-ml-course), donde utilizará 79 variables explicativas diferentes (como el tipo de techo, la cantidad de dormitorios y la cantidad de baños) para predecir los precios de las viviendas."
   ]
  },
  {
   "cell_type": "code",
   "execution_count": 1,
   "metadata": {},
   "outputs": [],
   "source": [
    "import pandas as pd\n",
    "from sklearn.model_selection import train_test_split\n",
    "\n",
    "# 1. Leer los datos\n",
    "train_data = pd.read_csv('train.csv', index_col='Id')\n",
    "test_data = pd.read_csv('test.csv', index_col='Id')\n",
    "\n",
    "# 2. Eliminar filas con valores faltantes en la variable objetivo\n",
    "train_data.dropna(axis=0, subset=['SalePrice'], inplace=True)\n",
    "\n",
    "# 2.1 Separar variable objetivo de las predictoras\n",
    "y = train_data.SalePrice\n",
    "train_data.drop(['SalePrice'], axis=1, inplace=True)"
   ]
  },
  {
   "cell_type": "code",
   "execution_count": 2,
   "metadata": {},
   "outputs": [
    {
     "name": "stdout",
     "output_type": "stream",
     "text": [
      "El tamaño de train_data: (1460, 79)\n",
      "El tamaño de test_data: (1459, 79)\n"
     ]
    }
   ],
   "source": [
    "# 2.2 Tamaño de los dataframe\n",
    "print(f\"El tamaño de train_data: {train_data.shape}\")\n",
    "print(f\"El tamaño de test_data: {test_data.shape}\")"
   ]
  },
  {
   "cell_type": "code",
   "execution_count": 3,
   "metadata": {},
   "outputs": [],
   "source": [
    "# 3. \"Cardinalidad\" significa la cantidad de valores únicos en una columna\n",
    "# Seleccione columnas categóricas con cardinalidad relativamente baja (conveniente pero arbitraria)\n",
    "categorical_cols = [cname for cname in train_data.columns if\n",
    "                    train_data[cname].nunique() < 10 and\n",
    "                    train_data[cname].dtype == \"object\"]\n",
    "\n",
    "# 4. Selecciona columnas numéricas\n",
    "numerical_cols = [cname for cname in train_data.columns if\n",
    "                train_data[cname].dtype in ['int64', 'float64']]\n",
    "\n",
    "# 5. Mantenga solo las columnas seleccionadas\n",
    "my_cols = categorical_cols + numerical_cols\n",
    "X = train_data[my_cols].copy()\n",
    "X_test =test_data[my_cols].copy()"
   ]
  },
  {
   "cell_type": "code",
   "execution_count": 4,
   "metadata": {},
   "outputs": [
    {
     "name": "stdout",
     "output_type": "stream",
     "text": [
      "El tamaño de X: (1460, 76)\n",
      "El tamaño de X_test : (1459, 76)\n"
     ]
    }
   ],
   "source": [
    "# Tamaño de los dataframe despues de aplicar cardinalidad\n",
    "print(f\"El tamaño de X: {X.shape}\")\n",
    "print(f\"El tamaño de X_test : {X_test.shape}\")"
   ]
  },
  {
   "cell_type": "markdown",
   "metadata": {},
   "source": [
    "### **Paso 1**: Definir función de utilidad get_score()"
   ]
  },
  {
   "cell_type": "code",
   "execution_count": 10,
   "metadata": {},
   "outputs": [],
   "source": [
    "# Definción de función de utilidd get_score\n",
    "\n",
    "from sklearn.compose import ColumnTransformer\n",
    "from sklearn.pipeline import Pipeline\n",
    "from sklearn.impute import SimpleImputer\n",
    "from sklearn.ensemble import RandomForestRegressor\n",
    "from sklearn.preprocessing import OneHotEncoder\n",
    "from sklearn.model_selection import cross_val_score\n",
    "\n",
    "def get_score(n_estimators, X = X, y =y):\n",
    "    # 1. Preprocesamiento de datos numéricos\n",
    "    numerical_transformer = SimpleImputer(strategy='median')\n",
    "    \n",
    "    # 2. Preprocesamiento de datos categóricos\n",
    "    categorical_transformer = Pipeline(steps=[\n",
    "        ('imputer', SimpleImputer(strategy='most_frequent')),\n",
    "        ('onehot', OneHotEncoder(handle_unknown='ignore'))\n",
    "    ]) \n",
    "\n",
    "    # 3. Preprocesamiento de paquetes para datos numéricos y categóricos\n",
    "    preprocessor = ColumnTransformer(\n",
    "        transformers=[\n",
    "            ('num', numerical_transformer, numerical_cols),\n",
    "            ('cat', categorical_transformer, categorical_cols)\n",
    "        ])\n",
    "\n",
    "    # 4. Crear pipeline con SimpleImputer y RandomForestRegressor\n",
    "    my_pipeline = Pipeline(steps=[\n",
    "        ('preprocessor', preprocessor), # Imputación de valores faltantes con parámetros por defecto\n",
    "        ('model', RandomForestRegressor(n_estimators=n_estimators, random_state=0)) # Modelo de Random Forest\n",
    "    ])\n",
    "    # Evaluar el modelo utilizando validación cruzada con MAE negativo\n",
    "    scores = cross_val_score(my_pipeline, X, y, cv=3, scoring='neg_mean_absolute_error')\n",
    "\n",
    "    # Calcular el MAE promedio (positivo)\n",
    "    mae_average = -scores.mean()\n",
    "\n",
    "    return mae_average"
   ]
  },
  {
   "cell_type": "markdown",
   "metadata": {},
   "source": [
    "### Paso 2: Probar diferentes valores de parámetros\n",
    "* Ahora, se utilizará la función que definió en el Paso 1 para evaluar el rendimiento del modelo correspondiente a ocho valores diferentes para la cantidad de árboles en el bosque aleatorio: 50, 100, 150, ..., 300, 350, 400.\n",
    "* Los resultados se almacenan en un dicccionario de Python: **results**, donde **results**[i] es el MAE promedio devuelto por la función get_score(i)."
   ]
  },
  {
   "cell_type": "code",
   "execution_count": 11,
   "metadata": {},
   "outputs": [
    {
     "name": "stdout",
     "output_type": "stream",
     "text": [
      "n_estimators: 50, MAE promedio: 18057.953678832077\n",
      "n_estimators: 100, MAE promedio: 18132.239140182468\n",
      "n_estimators: 150, MAE promedio: 17991.024749757995\n",
      "n_estimators: 200, MAE promedio: 17979.603878206482\n",
      "n_estimators: 250, MAE promedio: 17952.22268798923\n",
      "n_estimators: 300, MAE promedio: 17943.927657165874\n",
      "n_estimators: 350, MAE promedio: 17949.456442966875\n",
      "n_estimators: 400, MAE promedio: 17931.235367324793\n"
     ]
    }
   ],
   "source": [
    "# Valores de n_estimators a evaluar\n",
    "n_estimators_values = [50, 100, 150, 200, 250, 300, 350, 400]\n",
    "\n",
    "# Crear un diccionario para almacenar los resultados\n",
    "results = {}\n",
    "\n",
    "# Usar un bucle para evaluar cada valor de n_estimators\n",
    "for n in n_estimators_values:\n",
    "    score = get_score(n, X, y)\n",
    "    results[n] = score\n",
    "    print(f'n_estimators: {n}, MAE promedio: {score}')"
   ]
  },
  {
   "cell_type": "markdown",
   "metadata": {},
   "source": [
    "### Paso 2.1 Visualización de los resultados"
   ]
  },
  {
   "cell_type": "code",
   "execution_count": 12,
   "metadata": {},
   "outputs": [
    {
     "data": {
      "image/png": "[encoded data removed]",
      "text/plain": [
       "<Figure size 432x288 with 1 Axes>"
      ]
     },
     "metadata": {
      "needs_background": "light"
     },
     "output_type": "display_data"
    }
   ],
   "source": [
    "import matplotlib.pyplot as plt\n",
    "%matplotlib inline\n",
    "# Se utiliza el resultado del diccionario result (x=keys, y=values)\n",
    "\n",
    "plt.plot(list(results.keys()), list(results.values()))\n",
    "plt.show()"
   ]
  },
  {
   "cell_type": "markdown",
   "metadata": {},
   "source": [
    "### Paso 3: encuentre el mejor valor de parámetro\n",
    "* Dados los resultados, el valor de n_estimators que mejor para el modelo de bosque aleatorio lo establecemos en **n_estimators_best**."
   ]
  },
  {
   "cell_type": "code",
   "execution_count": 13,
   "metadata": {},
   "outputs": [],
   "source": [
    "n_estimators_best = 400"
   ]
  }
 ],
 "metadata": {
  "kernelspec": {
   "display_name": "base",
   "language": "python",
   "name": "python3"
  },
  "language_info": {
   "codemirror_mode": {
    "name": "ipython",
    "version": 3
   },
   "file_extension": ".py",
   "mimetype": "text/x-python",
   "name": "python",
   "nbconvert_exporter": "python",
   "pygments_lexer": "ipython3",
   "version": "3.8.5"
  }
 },
 "nbformat": 4,
 "nbformat_minor": 2
}
